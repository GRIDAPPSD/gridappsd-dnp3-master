{
 "cells": [
  {
   "cell_type": "code",
   "execution_count": 1,
   "metadata": {},
   "outputs": [],
   "source": [
    "import json"
   ]
  },
  {
   "cell_type": "code",
   "execution_count": 4,
   "metadata": {},
   "outputs": [],
   "source": [
    "# ports.json\n",
    "device_ip_port_config_all = {\n",
    "       \"test outstation 1\":{\"name\":\"test outstation 1\",\n",
    "       \"conversion_type\":\"Shark\",\n",
    "       \"CIM object\":\"632633\",\n",
    "       \"port\": \"20000\",\n",
    "       \"ip\": \"127.0.0.1\",\n",
    "       \"desc\": \"AMI Measurement\",\n",
    "       \"link_local_addr\":\"10\",\n",
    "       \"link_remote_addr\":\"1024\",\n",
    "        },\n",
    "        \"test outstation 2\":{\"name\":\"test outstation 2\",\n",
    "       \"conversion_type\":\"Shark\",\n",
    "       \"CIM object\":\"632633\",\n",
    "       \"port\": \"19999\",\n",
    "       \"ip\": \"127.0.0.1\",\n",
    "       \"desc\": \"AMI Measurement\",\n",
    "       \"link_local_addr\":\"10\",\n",
    "       \"link_remote_addr\":\"1024\",\n",
    "        },\n",
    "        \"shark 1\":{\"name\":\"shark 1\",\n",
    "        \"sim_object\": \"line_632633\"\n",
    "       \"conversion_type\":\"Shark\",\n",
    "       \"CIM object\":\"632633\",\n",
    "       \"port\": \"20000\",\n",
    "       \"ip\": \"10.79.91.94\",\n",
    "       \"desc\": \"AMI Measurement\",\n",
    "       \"link_local_addr\":\"1\",\n",
    "       \"link_remote_addr\":\"0\",\n",
    "        },\n",
    "        \"shark 2\":{\"name\":\"shark 2\",\n",
    "       \"conversion_type\":\"Shark\",\n",
    "       \"CIM object\":\"632633\",\n",
    "       \"port\": \"20000\",\n",
    "       \"ip\": \"10.79.91.95\",\n",
    "       \"desc\": \"AMI Measurement\",\n",
    "       \"link_local_addr\":\"1\",\n",
    "       \"link_remote_addr\":\"0\",\n",
    "        },\n",
    "       \"capbank 1\":{\"name\":\"capbank 1\",\n",
    "       \"conversion_type\":\"Beckwith Capbank\",\n",
    "       \"CIM object\":\"cap1\",\n",
    "       \"port\": \"30004\",\n",
    "       \"ip\": \"10.79.91.70\",\n",
    "       \"desc\": \"AMI Measurement\",\n",
    "       \"link_local_addr\":\"100\",\n",
    "       \"link_remote_addr\":\"0\",\n",
    "        }  \n",
    "    }"
   ]
  },
  {
   "cell_type": "code",
   "execution_count": 5,
   "metadata": {},
   "outputs": [],
   "source": [
    "with open(\"device_ip_port_config_all.json\",\"w\") as f:\n",
    "    json.dump(device_ip_port_config_all,f,indent=2)"
   ]
  },
  {
   "cell_type": "code",
   "execution_count": null,
   "metadata": {},
   "outputs": [],
   "source": []
  }
 ],
 "metadata": {
  "kernelspec": {
   "display_name": "Python 3",
   "language": "python",
   "name": "python3"
  },
  "language_info": {
   "codemirror_mode": {
    "name": "ipython",
    "version": 3
   },
   "file_extension": ".py",
   "mimetype": "text/x-python",
   "name": "python",
   "nbconvert_exporter": "python",
   "pygments_lexer": "ipython3",
   "version": "3.6.10"
  }
 },
 "nbformat": 4,
 "nbformat_minor": 4
}
